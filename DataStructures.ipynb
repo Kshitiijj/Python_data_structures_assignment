{
 "cells": [
  {
   "cell_type": "code",
   "execution_count": 1,
   "id": "11a11e93-adae-4d43-a033-a6de917ac181",
   "metadata": {},
   "outputs": [
    {
     "data": {
      "text/plain": [
       "'Lists require iteration to find specific elements, resulting in O(n) complexity. \\nDictionaries use keys for direct access, making retrieval O(1), which is faster and more efficient for large datasets.'"
      ]
     },
     "execution_count": 1,
     "metadata": {},
     "output_type": "execute_result"
    }
   ],
   "source": [
    "#1). What are data structures, and why are they important?\n",
    "\"\"\"Data structures are formats for organizing, managing, and storing data to make it easily accessible and efficient to process. \n",
    "They are essential because they optimize operations like searching, sorting, and modifying data, \n",
    "improving the performance of software applications.\"\"\"\n",
    "\n",
    "#2). Explain the difference between mutable and immutable data types with examples.\n",
    "\"\"\"Mutable data types (e.g., lists, dictionaries) allow modifications after their creation, \n",
    "such as adding, removing, or changing elements. Immutable types (e.g., tuples, strings) cannot be altered after creation. \n",
    "For example, modifying a list (my_list[0] = 10) is allowed, but modifying a tuple raises an error.\"\"\"\n",
    "\n",
    "#3). What are the main differences between lists and tuples in Python?\n",
    "'''Lists are mutable, meaning you can add, remove, or update their elements. \n",
    "They are ideal for collections of items that may change. Tuples, on the other hand, are immutable, \n",
    "so they are faster and safer when working with constant data like coordinates.'''\n",
    "\n",
    "#4).Describe how dictionaries store data.\n",
    "'''Dictionaries store data as key-value pairs in a hash table. \n",
    "Keys act as unique identifiers for values, allowing quick lookups and updates. \n",
    "For instance, in {‘name’: ‘kshitij’, ‘age’: 20}, the key 'name' points to the value 'kshitij'.'''\n",
    "\n",
    "#5). Why might you use a set instead of a list in Python?\n",
    "\n",
    "'''Sets are used when you need a collection of unique elements. \n",
    "They are optimized for operations like removing duplicates and performing mathematical set operations (union, intersection). \n",
    "For example, {1, 2, 3, 3} becomes {1, 2, 3} in a set.'''\n",
    "\n",
    "#6). What is a string in Python, and how is it different from a list?\n",
    "'''A string is a sequence of characters used to store and manipulate text. \n",
    "Unlike lists, which can hold any data type and are mutable, strings are immutable and \n",
    "specifically designed for text-based data, such as \"Hello\".'''\n",
    "\n",
    "#7). How do tuples ensure data integrity in Python?\n",
    "'''Tuples are immutable, meaning their content cannot be changed after creation. \n",
    "This ensures that critical data, such as configuration settings or database coordinates, \n",
    "remain secure and consistent throughout the program.'''\n",
    "\n",
    "#8). What is a hash table, and how does it relate to dictionaries in Python?\n",
    "'''A hash table is a data structure that uses a hash function to map keys to values for fast lookups. \n",
    "Python dictionaries are implemented using hash tables, allowing operations like retrieving, adding, \n",
    "or deleting key-value pairs to be performed efficiently.'''\n",
    "\n",
    "#9). Can lists contain different data types in Python?\n",
    "'''Yes, Python lists can hold elements of any data type, such as [1, \"apple\", 3.14, [5, 6]]. \n",
    "This flexibility makes them versatile for handling heterogeneous collections of data.'''\n",
    "\n",
    "#10). Explain why strings are immutable in Python.\n",
    "'''Strings are immutable to ensure data integrity and performance. \n",
    "For example, when used as keys in dictionaries or as part of large datasets, immutability ensures that their hash values \n",
    "do not change, preventing errors during retrieval.'''\n",
    "\n",
    "#11). What advantages do dictionaries offer over lists for certain tasks?\n",
    "'''Dictionaries provide quick lookups, updates, and deletions using unique keys, \n",
    "making them suitable for tasks requiring mappings (e.g., a phone book). \n",
    "Lists, by contrast, require iteration to find specific elements, which is less efficient.'''\n",
    "\n",
    "#12). Describe a scenario where using a tuple would be preferable over a list.\n",
    "'''Tuples are ideal when you want to store constant data, like coordinates (10, 20) or months of the year. \n",
    "Their immutability prevents accidental changes, ensuring the integrity of the stored data.'''\n",
    "\n",
    "#13). How do sets handle duplicate values in Python?\n",
    "'''Sets automatically remove duplicate values. For example, adding [1, 2, 2, 3] to a set results in {1, 2, 3}. \n",
    "This makes sets ideal for tasks requiring unique elements.'''\n",
    "\n",
    "#14).How does the “in” keyword work differently for lists and dictionaries?\n",
    "'''In lists, the in keyword checks for the presence of a value (3 in [1, 2, 3] returns True). \n",
    "In dictionaries, it checks for the presence of a key ('age' in {'name': 'Alice', 'age': 25} returns True).'''\n",
    "\n",
    "#15). Can you modify the elements of a tuple? Explain why or why not.\n",
    "'''No, you cannot modify a tuple because it is immutable. \n",
    "Once created, its elements cannot be changed, which ensures data consistency.'''\n",
    "\n",
    "#16). What is a nested dictionary, and give an example of its use case?\n",
    "'''A nested dictionary is a dictionary containing another dictionary as its value. \n",
    "It is useful for representing hierarchical data, such as {‘class’: {‘student1’: {‘name’: ‘kshitij’, ‘age’: 20}}}.'''\n",
    "\n",
    "#17). Describe the time complexity of accessing elements in a dictionary.\n",
    "'''Accessing elements in a dictionary has an average time complexity of O(1), as it uses a hash table to locate keys directly. \n",
    "This makes dictionaries faster than lists for lookups.'''\n",
    "\n",
    "#18). In what situations are lists preferred over dictionaries?\n",
    "'''Lists are preferred when the order of elements matters (e.g., for sequential processing) or when keys are unnecessary. \n",
    "For example, storing a series of numbers is better suited for a list than a dictionary.'''\n",
    "\n",
    "#19). Why are dictionaries considered unordered, and how does that affect data retrieval?\n",
    "'''Before Python 3.7, dictionaries did not preserve insertion order, though data retrieval was still efficient. \n",
    "From Python 3.7 onwards, dictionaries maintain insertion order, but their main advantage remains fast access by key.'''\n",
    "\n",
    "#20). Explain the difference between a list and a dictionary in terms of data retrieval.\n",
    "'''Lists require iteration to find specific elements, resulting in O(n) complexity. \n",
    "Dictionaries use keys for direct access, making retrieval O(1), which is faster and more efficient for large datasets.'''\n",
    "\n",
    "\n",
    "\n",
    "\n",
    "\n",
    "\n",
    "\n"
   ]
  },
  {
   "cell_type": "code",
   "execution_count": 3,
   "id": "24e35532-c922-48c1-8770-ade9b751eb22",
   "metadata": {},
   "outputs": [],
   "source": [
    "#Practical Questions"
   ]
  },
  {
   "cell_type": "code",
   "execution_count": 7,
   "id": "0d5a9f8b-ed52-42e1-9aaa-9258db53421d",
   "metadata": {},
   "outputs": [
    {
     "name": "stdout",
     "output_type": "stream",
     "text": [
      "Kshitij Surve\n"
     ]
    }
   ],
   "source": [
    "#1). Write a code to create a string with your name and print it.\n",
    "\n",
    "name = \"Kshitij Surve\"\n",
    "print(name)\n"
   ]
  },
  {
   "cell_type": "code",
   "execution_count": 9,
   "id": "cdae62ae-44d7-454a-a3ee-f5b2a0de9010",
   "metadata": {},
   "outputs": [
    {
     "name": "stdout",
     "output_type": "stream",
     "text": [
      "11\n"
     ]
    }
   ],
   "source": [
    "#2). Write a code to find the length of the string \"Hello World\".\n",
    "\n",
    "string = \"Hello World\"\n",
    "keo = len(string)\n",
    "print(keo)\n"
   ]
  },
  {
   "cell_type": "code",
   "execution_count": 11,
   "id": "36b41161-7186-4d1f-bd22-3b94c788824c",
   "metadata": {},
   "outputs": [
    {
     "name": "stdout",
     "output_type": "stream",
     "text": [
      "Pyt\n"
     ]
    }
   ],
   "source": [
    "#3). Write a code to slice the first 3 characters from the string \"Python Programming\".\n",
    "\n",
    "char = \"Python Programming\"\n",
    "sliced = char[:3]\n",
    "print(sliced)"
   ]
  },
  {
   "cell_type": "code",
   "execution_count": 15,
   "id": "a225b2dc-6172-464c-ac43-99ff62a7c380",
   "metadata": {},
   "outputs": [
    {
     "name": "stdout",
     "output_type": "stream",
     "text": [
      "HELLO\n"
     ]
    }
   ],
   "source": [
    "#4). Write a code to convert the string \"hello\" to uppercase.\n",
    "string = \"hello\"\n",
    "str = string.upper()\n",
    "print(str)"
   ]
  },
  {
   "cell_type": "code",
   "execution_count": 17,
   "id": "7bfd5d47-6609-479e-a572-91af4ca827ee",
   "metadata": {},
   "outputs": [
    {
     "name": "stdout",
     "output_type": "stream",
     "text": [
      "I like orange\n"
     ]
    }
   ],
   "source": [
    "#5). Write a code to replace the word \"apple\" with \"orange\" in the string \"I like apple\".\n",
    "\n",
    "string = \"I like apple\"\n",
    "replaced = string.replace(\"apple\", \"orange\")\n",
    "print(replaced)"
   ]
  },
  {
   "cell_type": "code",
   "execution_count": 19,
   "id": "29d69106-61ca-494c-a13b-92798e742c60",
   "metadata": {},
   "outputs": [
    {
     "name": "stdout",
     "output_type": "stream",
     "text": [
      "[1, 2, 3, 4, 5]\n"
     ]
    }
   ],
   "source": [
    "#6). Write a code to create a list with numbers 1 to 5 and print it.\n",
    "\n",
    "list = [1,2,3,4,5]\n",
    "print(list)"
   ]
  },
  {
   "cell_type": "code",
   "execution_count": 25,
   "id": "582ff1b4-72b8-4478-a32b-9f4f7d0ab735",
   "metadata": {},
   "outputs": [
    {
     "name": "stdout",
     "output_type": "stream",
     "text": [
      "[1, 2, 3, 4, 10]\n"
     ]
    }
   ],
   "source": [
    "#7). Write a code to append the number 10 to the list [1, 2, 3, 4].\n",
    "\n",
    "num = [1,2,3,4]\n",
    "num.append(10)\n",
    "print(num)\n"
   ]
  },
  {
   "cell_type": "code",
   "execution_count": 27,
   "id": "8d382f82-3ec6-4c42-b7e8-0d2f649eae4b",
   "metadata": {},
   "outputs": [
    {
     "name": "stdout",
     "output_type": "stream",
     "text": [
      "[1, 2, 4, 5]\n"
     ]
    }
   ],
   "source": [
    "#8). Write a code to remove the number 3 from the list [1, 2, 3, 4, 5].\n",
    "\n",
    "nums = [1, 2, 3, 4, 5]\n",
    "nums.remove(3)\n",
    "print(nums)"
   ]
  },
  {
   "cell_type": "code",
   "execution_count": 37,
   "id": "03d5ed81-1eb8-4a4c-8b4a-4d5c78350c25",
   "metadata": {},
   "outputs": [
    {
     "name": "stdout",
     "output_type": "stream",
     "text": [
      "b\n"
     ]
    }
   ],
   "source": [
    "#9). Write a code to access the second element in the list ['a', 'b', 'c', 'd'].\n",
    "\n",
    "access = ['a', 'b', 'c', 'd']\n",
    "ac_ele = access[1]\n",
    "print(ac_ele)"
   ]
  },
  {
   "cell_type": "code",
   "execution_count": 45,
   "id": "a810de38-6076-4ae1-89a0-9f0e24c70e66",
   "metadata": {},
   "outputs": [
    {
     "name": "stdout",
     "output_type": "stream",
     "text": [
      "[50, 40, 30, 20, 10]\n"
     ]
    }
   ],
   "source": [
    "#10). Write a code to reverse the list [10, 20, 30, 40, 50].\n",
    "\n",
    "rev = [10, 20, 30, 40, 50]\n",
    "rev_list = rev[::-1]\n",
    "print(rev_list)"
   ]
  },
  {
   "cell_type": "code",
   "execution_count": 49,
   "id": "f6e8e96b-b12a-4467-92a7-54f4a7a7b6c1",
   "metadata": {},
   "outputs": [
    {
     "name": "stdout",
     "output_type": "stream",
     "text": [
      "(10, 20, 30)\n"
     ]
    }
   ],
   "source": [
    "#11). Write a code to create a tuple with the elements 10, 20, 30 and print it.\n",
    "\n",
    "tuplee = (10,20,30)\n",
    "print(tuplee)"
   ]
  },
  {
   "cell_type": "code",
   "execution_count": 51,
   "id": "eaad5897-ddda-416b-9367-19231cfeb438",
   "metadata": {},
   "outputs": [
    {
     "name": "stdout",
     "output_type": "stream",
     "text": [
      "apple\n"
     ]
    }
   ],
   "source": [
    "#12). Write a code to access the first element of the tuple ('apple', 'banana', 'cherry').\n",
    "\n",
    "my_tup = ('apple', 'banana', 'cherry')\n",
    "my_tup1 = my_tup[0]\n",
    "print(my_tup1)"
   ]
  },
  {
   "cell_type": "code",
   "execution_count": 53,
   "id": "332bfddb-dec1-4297-9b5d-27455c14779c",
   "metadata": {},
   "outputs": [
    {
     "name": "stdout",
     "output_type": "stream",
     "text": [
      "3\n"
     ]
    }
   ],
   "source": [
    "#13).Write a code to count how many times the number 2 appears in the tuple (1, 2, 3, 2, 4, 2).\n",
    "\n",
    "tuple1 = (1, 2, 3, 2, 4, 2)\n",
    "counting = tuple1.count(2)\n",
    "print(counting)"
   ]
  },
  {
   "cell_type": "code",
   "execution_count": 55,
   "id": "abfa9bc0-35a9-4bcd-a9e3-ff51735b4c4c",
   "metadata": {},
   "outputs": [
    {
     "name": "stdout",
     "output_type": "stream",
     "text": [
      "1\n"
     ]
    }
   ],
   "source": [
    "#14). Write a code to find the index of the element \"cat\" in the tuple ('dog', 'cat', 'rabbit').\n",
    "meow = ('dog', 'cat', 'rabbit')\n",
    "indexing = meow.index(\"cat\")\n",
    "print(indexing)"
   ]
  },
  {
   "cell_type": "code",
   "execution_count": 57,
   "id": "47d35dcf-3b6c-4c0a-9727-54c3262f559b",
   "metadata": {},
   "outputs": [
    {
     "name": "stdout",
     "output_type": "stream",
     "text": [
      "Yes\n"
     ]
    }
   ],
   "source": [
    "#15). Write a code to check if the element \"banana\" is in the tuple ('apple', 'orange', 'banana').\n",
    "fruits =  ('apple', 'orange', 'banana')\n",
    "if \"banana\" in fruits:\n",
    "    print(\"Yes\")\n",
    "else:\n",
    "    print(\"no\")"
   ]
  },
  {
   "cell_type": "code",
   "execution_count": 59,
   "id": "cfdc0025-03da-4ec4-ad47-ca591ffcbc3d",
   "metadata": {},
   "outputs": [
    {
     "name": "stdout",
     "output_type": "stream",
     "text": [
      "{1, 2, 3, 4, 5}\n",
      "<class 'set'>\n"
     ]
    }
   ],
   "source": [
    "#16). Write a code to create a set with the elements 1, 2, 3, 4, 5 and print it.\n",
    "s = {1,2,3,4,5}\n",
    "print(s)\n",
    "si = type(s)\n",
    "print(si)"
   ]
  },
  {
   "cell_type": "code",
   "execution_count": 69,
   "id": "37fa1b28-f85c-4914-9f82-d98159975bd4",
   "metadata": {},
   "outputs": [
    {
     "name": "stdout",
     "output_type": "stream",
     "text": [
      "{1, 2, 3, 4, 6}\n"
     ]
    }
   ],
   "source": [
    "#17). Write a code to add the element 6 to the set {1, 2, 3, 4}.\n",
    "\n",
    "sets = {1, 2, 3, 4}\n",
    "sets.add(6)\n",
    "print(sets)"
   ]
  },
  {
   "cell_type": "code",
   "execution_count": 71,
   "id": "a4129053-44ac-41b7-855f-cebe5553a9d2",
   "metadata": {},
   "outputs": [
    {
     "name": "stdout",
     "output_type": "stream",
     "text": [
      "(10, 20, 30)\n"
     ]
    }
   ],
   "source": [
    "#18). Write a code to create a tuple with the elements 10, 20, 30 and print it.\n",
    "\n",
    "mynew_tuple = (10,20,30)\n",
    "print(mynew_tuple)"
   ]
  },
  {
   "cell_type": "code",
   "execution_count": 73,
   "id": "4c93cdb2-476d-4f5e-97d8-f35a2f6e3f01",
   "metadata": {},
   "outputs": [
    {
     "name": "stdout",
     "output_type": "stream",
     "text": [
      "apple\n"
     ]
    }
   ],
   "source": [
    "#19). Write a code to access the first element of the tuple ('apple', 'banana', 'cherry').\n",
    "\n",
    "fruits_tup = ('apple', 'banana', 'cherry')\n",
    "accessing = fruits_tup[0]\n",
    "print(accessing)"
   ]
  },
  {
   "cell_type": "code",
   "execution_count": 75,
   "id": "82ed1ce7-c672-4bb0-badd-5bcb9d8caff9",
   "metadata": {},
   "outputs": [
    {
     "name": "stdout",
     "output_type": "stream",
     "text": [
      "3\n"
     ]
    }
   ],
   "source": [
    "#20. Write a code to count how many times the number 2 appears in the tuple (1, 2, 3, 2, 4, 2).\n",
    "numbers = (1, 2, 3, 2, 4, 2)\n",
    "counts = numbers.count(2)\n",
    "print(counts)"
   ]
  },
  {
   "cell_type": "code",
   "execution_count": 77,
   "id": "1ef3e0a5-3b9e-4042-9f8a-57966941a3e3",
   "metadata": {},
   "outputs": [
    {
     "name": "stdout",
     "output_type": "stream",
     "text": [
      "1\n"
     ]
    }
   ],
   "source": [
    "#21). Write a code to find the index of the element \"cat\" in the tuple ('dog', 'cat', 'rabbit').\n",
    "animals = ('dog', 'cat', 'rabbit')\n",
    "indexing = animals.index(\"cat\")\n",
    "print(indexing)"
   ]
  },
  {
   "cell_type": "code",
   "execution_count": 85,
   "id": "bc54412f-90c4-437d-a209-644b75829a0b",
   "metadata": {},
   "outputs": [
    {
     "name": "stdout",
     "output_type": "stream",
     "text": [
      "True\n"
     ]
    }
   ],
   "source": [
    "#22).  Write a code to check if the element \"banana\" is in the tuple ('apple', 'orange', 'banana').\n",
    "frui =  ('apple', 'orange', 'banana')\n",
    "if \"banana\" in frui:\n",
    "    print(\"True\")\n",
    "else:\n",
    "    print(\"False\")"
   ]
  },
  {
   "cell_type": "code",
   "execution_count": 81,
   "id": "9feaeab4-7a7c-451b-9902-d608b5de8b7f",
   "metadata": {},
   "outputs": [
    {
     "name": "stdout",
     "output_type": "stream",
     "text": [
      "{1, 2, 3, 4, 5}\n",
      "<class 'set'>\n"
     ]
    }
   ],
   "source": [
    "#23).  Write a code to create a set with the elements 1, 2, 3, 4, 5 and print it.\n",
    "s = {1,2,3,4,5}\n",
    "print(s)\n",
    "si = type(s)\n",
    "print(si)"
   ]
  },
  {
   "cell_type": "code",
   "execution_count": 83,
   "id": "239e375b-0b0d-4ce4-a284-e27ee67a6051",
   "metadata": {},
   "outputs": [
    {
     "name": "stdout",
     "output_type": "stream",
     "text": [
      "{1, 2, 3, 4, 6}\n"
     ]
    }
   ],
   "source": [
    "#24). Write a code to add the element 6 to the set {1, 2, 3, 4}.\n",
    "\n",
    "sets = {1, 2, 3, 4}\n",
    "sets.add(6)\n",
    "print(sets)"
   ]
  },
  {
   "cell_type": "code",
   "execution_count": null,
   "id": "53f133a1-fd55-4449-ad3e-de5d2227adbe",
   "metadata": {},
   "outputs": [],
   "source": []
  }
 ],
 "metadata": {
  "kernelspec": {
   "display_name": "Python 3 (ipykernel)",
   "language": "python",
   "name": "python3"
  },
  "language_info": {
   "codemirror_mode": {
    "name": "ipython",
    "version": 3
   },
   "file_extension": ".py",
   "mimetype": "text/x-python",
   "name": "python",
   "nbconvert_exporter": "python",
   "pygments_lexer": "ipython3",
   "version": "3.12.7"
  }
 },
 "nbformat": 4,
 "nbformat_minor": 5
}
